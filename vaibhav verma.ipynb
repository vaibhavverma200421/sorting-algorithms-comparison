{
 "cells": [
  {
   "cell_type": "markdown",
   "id": "8800059f-3462-471f-99dd-edbb0e485214",
   "metadata": {},
   "source": [
    "##### Vaibhav Verma   Roll No. = 2501560025   MCA (Core)\n",
    "\n",
    "Assignment of comparing the running times of Bubble , Insertion and Selection sort in python.\n",
    "\n",
    "\n",
    "\n",
    "\n"
   ]
  },
  {
   "cell_type": "code",
   "execution_count": 6,
   "id": "4300b8ef-b3e0-4b0c-8b6c-ab6c21ba7748",
   "metadata": {},
   "outputs": [
    {
     "name": "stdout",
     "output_type": "stream",
     "text": [
      "Running time for 1000 elements:\n",
      "\n",
      "Bubble Sort:    0.17468 seconds\n",
      "Insertion Sort: 0.07096 seconds\n",
      "Selection Sort: 0.06862 seconds\n"
     ]
    }
   ],
   "source": [
    "import time\n",
    "import random\n",
    "\n",
    "# sorting algorithms\n",
    "\n",
    "#bubble sort\n",
    "\n",
    "def bubble_sort(arr):\n",
    "    a = arr.copy()\n",
    "    n = len(a)\n",
    "    for i in range(n):\n",
    "        for j in range(0,n-i-1):\n",
    "            if a[j] > a[j +1]:\n",
    "                a[j] , a[j+1] = a[j +1], a[j]\n",
    "\n",
    "    return a\n",
    "\n",
    "#  insertion sort \n",
    "\n",
    "def insertion_sort(arr):\n",
    "    a = arr.copy()\n",
    "    for i in range(1, len(a)):\n",
    "        key = a[i]\n",
    "        j = i-1  # we will move backwords and this j = previous element \n",
    "        while j >= 0 and  key < a[j]:\n",
    "            a[j + 1] = a[j]\n",
    "            j -= 1\n",
    "        a[j+1] = key \n",
    "\n",
    "    return a\n",
    "\n",
    "# selection sort\n",
    "\n",
    "def selection_sort(arr):\n",
    "    a = arr.copy()\n",
    "    for i in range(len(a)):\n",
    "        min_idx = i\n",
    "        for j in range( i+1 , len(a)):\n",
    "            if a[j] < a[min_idx]:\n",
    "                min_idx = j\n",
    "\n",
    "        a[i] , a[min_idx] = a[min_idx] , a[i]\n",
    "\n",
    "    return a\n",
    "\n",
    "\n",
    "# generate random data with the help of random module.\n",
    "\n",
    "size = 1000\n",
    "data = [random.randint(0 , 10000) for _ in range(size)]\n",
    "\n",
    "#benchmark function \n",
    "\n",
    "def benchmark(sort_func, data):\n",
    "    start = time.time()\n",
    "    sort_func(data)\n",
    "    end = time.time()\n",
    "    return end - start\n",
    "\n",
    "# run benchmarks \n",
    "\n",
    "print(\"Running time for {} elements:\\n\".format(size))\n",
    "print(f\"Bubble Sort:    {benchmark(bubble_sort, data):.5f} seconds\")\n",
    "print(f\"Insertion Sort: {benchmark(insertion_sort, data):.5f} seconds\")\n",
    "print(f\"Selection Sort: {benchmark(selection_sort, data):.5f} seconds\")\n",
    "    \n",
    "\n",
    "    \n",
    "    \n",
    "   \n",
    "    \n",
    "        \n",
    "\n",
    "\n",
    "\n",
    "\n",
    "\n",
    "                \n",
    "\n"
   ]
  },
  {
   "cell_type": "code",
   "execution_count": null,
   "id": "d777541c-b198-442f-ab3b-8bcbd00349e6",
   "metadata": {},
   "outputs": [],
   "source": []
  }
 ],
 "metadata": {
  "kernelspec": {
   "display_name": "Python 3 (ipykernel)",
   "language": "python",
   "name": "python3"
  },
  "language_info": {
   "codemirror_mode": {
    "name": "ipython",
    "version": 3
   },
   "file_extension": ".py",
   "mimetype": "text/x-python",
   "name": "python",
   "nbconvert_exporter": "python",
   "pygments_lexer": "ipython3",
   "version": "3.13.5"
  }
 },
 "nbformat": 4,
 "nbformat_minor": 5
}
